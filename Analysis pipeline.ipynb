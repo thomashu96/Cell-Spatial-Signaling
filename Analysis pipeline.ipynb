{
 "metadata": {
  "language_info": {
   "codemirror_mode": {
    "name": "ipython",
    "version": 3
   },
   "file_extension": ".py",
   "mimetype": "text/x-python",
   "name": "python",
   "nbconvert_exporter": "python",
   "pygments_lexer": "ipython3",
   "version": "3.6.10-final"
  },
  "orig_nbformat": 2,
  "kernelspec": {
   "name": "Python 3.6.10 64-bit ('Thomas': conda)",
   "display_name": "Python 3.6.10 64-bit ('Thomas': conda)",
   "metadata": {
    "interpreter": {
     "hash": "eafba2ff240a0b26d239e22f3b7e24229a7ee19870f22308243224c29351d706"
    }
   }
  }
 },
 "nbformat": 4,
 "nbformat_minor": 2,
 "cells": [
  {
   "cell_type": "code",
   "execution_count": 245,
   "metadata": {},
   "outputs": [],
   "source": [
    "import numpy as np \n",
    "import matplotlib.pyplot as plt\n",
    "import skimage.io\n",
    "from skimage.measure import regionprops, regionprops_table\n",
    "import pandas as pd \n",
    "import numpy.ma as ma\n",
    "import cv2\n",
    "import os "
   ]
  },
  {
   "cell_type": "code",
   "execution_count": 246,
   "metadata": {},
   "outputs": [],
   "source": [
    "# Define image and masks folder\n",
    "img_folder = './3seg+conjugated 8_26_corrected'\n",
    "mask_folder = './masks'\n",
    "\n",
    "df = pd.read_csv('all_info.csv')"
   ]
  },
  {
   "cell_type": "code",
   "execution_count": 247,
   "metadata": {},
   "outputs": [],
   "source": [
    "def get_condition(df, condition):\n",
    "    imgs_path = []\n",
    "    markers = []\n",
    "\n",
    "    df = df[(df.Condition == condition) & (df.Z_stack == 'Combined')]\n",
    "    for row in df.itertuples():\n",
    "        if row.Marker in ['DAPI','Phalloidin', 'WGA']:\n",
    "            continue\n",
    "        imgs_path.append(row.Path_corrected)\n",
    "        markers.append(row.Marker)\n",
    "    return imgs_path, markers\n",
    "\n",
    "def get_masks(mask_folder):\n",
    "    # Read masks\n",
    "    masks = {}\n",
    "\n",
    "    for (dirpath, dirnames, filenames) in os.walk(mask_folder):\n",
    "        for name in sorted(filenames):\n",
    "            if 'tiff' in name:\n",
    "                condition = name.split('_')[0]\n",
    "                masks[condition] = masks.get(condition, {})\n",
    "                filename = os.path.join(dirpath, name)\n",
    "            if 'cyto' in name:\n",
    "                img = skimage.io.imread(filename)\n",
    "                masks[condition]['cyto'] = img \n",
    "            elif 'nuclei' in name:\n",
    "                img = skimage.io.imread(filename)\n",
    "                masks[condition]['nuclei'] = img\n",
    "    return masks\n",
    "\n",
    "def measure_prop(df, masks, show=False, save=False):\n",
    "    appended_data = []\n",
    "\n",
    "    # Get each segmented cell region with corresponding nuclei and cell\n",
    "    for condition in masks.keys():\n",
    "        mask_cyto = masks[condition]['cyto']\n",
    "        mask_nuclei = masks[condition]['nuclei']\n",
    "\n",
    "        cell = np.zeros((mask_cyto.shape), dtype = np.uint8)\n",
    "        nuclei = np.zeros((mask_cyto.shape), dtype = np.uint8)\n",
    "        cyto = np.zeros((mask_cyto.shape), dtype = np.uint8)\n",
    "\n",
    "        for label in range(1, mask_cyto.max()):\n",
    "            # Check if cell has nuclei\n",
    "            cell_mask = np.where(mask_cyto == label, 1, 0).astype(np.uint8)\n",
    "            maski = cv2.bitwise_and(mask_nuclei, mask_nuclei, mask = cell_mask)\n",
    "\n",
    "            # If no nuclei detected then pass\n",
    "            if maski.max() == 0 :\n",
    "                continue\n",
    "\n",
    "            # Link label accross cell, nuclei, cyto\n",
    "            cell = np.where(mask_cyto == label, label, cell)\n",
    "            nuclei = np.where(maski > 0, label, nuclei)\n",
    "            maski = cv2.subtract(cell_mask, maski)\n",
    "            cyto = np.where(maski > 0, label, cyto)\n",
    "            \n",
    "        imgs, markers = get_condition(df, condition)\n",
    "        for idx, img_path in enumerate(imgs):\n",
    "            img = skimage.io.imread(img_path)\n",
    "            cell_props = regionprops_table(cell, img, properties=['area', 'mean_intensity'])\n",
    "            nuclei_props = regionprops_table(nuclei, img, properties=['area', 'mean_intensity'])\n",
    "            cyto_props = regionprops_table(cyto, img, properties=['area', 'mean_intensity'])\n",
    "\n",
    "            props = [cell_props, nuclei_props, cyto_props]\n",
    "            prefix = ['Cell ', 'Nuclei ', 'Cyto ']\n",
    "            df_marker = pd.concat([pd.DataFrame(prop).add_prefix(suffix[idx]) for idx, prop in enumerate(props)], axis = 1)\n",
    "            df_marker['Marker'] = markers[idx]\n",
    "            df_marker['Condition'] = condition\n",
    "            df_marker['Id'] = df_marker.index\n",
    "            appended_data.append(df_marker)\n",
    "        if show:\n",
    "            fig, ax = plt.subplots(1,3, figsize=(15,5))\n",
    "            ax[0].imshow(cell)\n",
    "            ax[1].imshow(nuclei)\n",
    "            ax[2].imshow(cyto)\n",
    "            plt.show()\n",
    "\n",
    "    df_prop = pd.concat(appended_data, ignore_index=True)\n",
    "    df_prop = df_prop.sort_values(by=['Condition','Id']).reset_index(drop=True)\n",
    "\n",
    "    if save:\n",
    "        df_prop.to_csv('measurements.csv', index=False)\n",
    "\n",
    "    return df_prop"
   ]
  },
  {
   "cell_type": "code",
   "execution_count": 248,
   "metadata": {},
   "outputs": [],
   "source": [
    "masks = get_masks(mask_folder)"
   ]
  },
  {
   "cell_type": "code",
   "execution_count": 249,
   "metadata": {},
   "outputs": [],
   "source": [
    "df_prop = measure_prop(df, masks, save=True)"
   ]
  },
  {
   "cell_type": "code",
   "execution_count": 250,
   "metadata": {},
   "outputs": [
    {
     "output_type": "execute_result",
     "data": {
      "text/plain": [
       "     Cell area  Cell mean_intensity  Nuclei area  Nuclei mean_intensity  \\\n",
       "0        19790          1473.307428          966            8407.890269   \n",
       "1        19790           213.940879          966             300.390269   \n",
       "2        19790            87.498029          966              94.752588   \n",
       "3        19790           261.507276          966             895.098344   \n",
       "4        19790           225.033957          966             385.269151   \n",
       "..         ...                  ...          ...                    ...   \n",
       "819      19467           484.493296         3926            1284.717524   \n",
       "820      19467           377.179740         3926             762.017575   \n",
       "821      19467           151.947090         3926             113.231279   \n",
       "822      19467           472.497611         3926            1455.043046   \n",
       "823      19467           100.922073         3926              99.067244   \n",
       "\n",
       "     Cyto area  Cyto mean_intensity                 Marker Condition  Id  \n",
       "0        18824          1117.442201         Concanavadin A       Fw1   0  \n",
       "1        18824           209.504516                    APC       Fw1   0  \n",
       "2        18824            87.125744              Cyclin D1       Fw1   0  \n",
       "3        18824           228.992988               Cyclin E       Fw1   0  \n",
       "4        18824           216.811092                EMMPRIN       Fw1   0  \n",
       "..         ...                  ...                    ...       ...  ..  \n",
       "819      15541           282.338974               Cyclin E       Fw3  30  \n",
       "820      15541           279.961199                EMMPRIN       Fw3  30  \n",
       "821      15541           161.727559                  WNT-1       Fw3  30  \n",
       "822      15541           224.284924  Non-phospho-B-catenin       Fw3  30  \n",
       "823      15541           101.390644                   DKK1       Fw3  30  \n",
       "\n",
       "[824 rows x 9 columns]"
      ],
      "text/html": "<div>\n<style scoped>\n    .dataframe tbody tr th:only-of-type {\n        vertical-align: middle;\n    }\n\n    .dataframe tbody tr th {\n        vertical-align: top;\n    }\n\n    .dataframe thead th {\n        text-align: right;\n    }\n</style>\n<table border=\"1\" class=\"dataframe\">\n  <thead>\n    <tr style=\"text-align: right;\">\n      <th></th>\n      <th>Cell area</th>\n      <th>Cell mean_intensity</th>\n      <th>Nuclei area</th>\n      <th>Nuclei mean_intensity</th>\n      <th>Cyto area</th>\n      <th>Cyto mean_intensity</th>\n      <th>Marker</th>\n      <th>Condition</th>\n      <th>Id</th>\n    </tr>\n  </thead>\n  <tbody>\n    <tr>\n      <th>0</th>\n      <td>19790</td>\n      <td>1473.307428</td>\n      <td>966</td>\n      <td>8407.890269</td>\n      <td>18824</td>\n      <td>1117.442201</td>\n      <td>Concanavadin A</td>\n      <td>Fw1</td>\n      <td>0</td>\n    </tr>\n    <tr>\n      <th>1</th>\n      <td>19790</td>\n      <td>213.940879</td>\n      <td>966</td>\n      <td>300.390269</td>\n      <td>18824</td>\n      <td>209.504516</td>\n      <td>APC</td>\n      <td>Fw1</td>\n      <td>0</td>\n    </tr>\n    <tr>\n      <th>2</th>\n      <td>19790</td>\n      <td>87.498029</td>\n      <td>966</td>\n      <td>94.752588</td>\n      <td>18824</td>\n      <td>87.125744</td>\n      <td>Cyclin D1</td>\n      <td>Fw1</td>\n      <td>0</td>\n    </tr>\n    <tr>\n      <th>3</th>\n      <td>19790</td>\n      <td>261.507276</td>\n      <td>966</td>\n      <td>895.098344</td>\n      <td>18824</td>\n      <td>228.992988</td>\n      <td>Cyclin E</td>\n      <td>Fw1</td>\n      <td>0</td>\n    </tr>\n    <tr>\n      <th>4</th>\n      <td>19790</td>\n      <td>225.033957</td>\n      <td>966</td>\n      <td>385.269151</td>\n      <td>18824</td>\n      <td>216.811092</td>\n      <td>EMMPRIN</td>\n      <td>Fw1</td>\n      <td>0</td>\n    </tr>\n    <tr>\n      <th>...</th>\n      <td>...</td>\n      <td>...</td>\n      <td>...</td>\n      <td>...</td>\n      <td>...</td>\n      <td>...</td>\n      <td>...</td>\n      <td>...</td>\n      <td>...</td>\n    </tr>\n    <tr>\n      <th>819</th>\n      <td>19467</td>\n      <td>484.493296</td>\n      <td>3926</td>\n      <td>1284.717524</td>\n      <td>15541</td>\n      <td>282.338974</td>\n      <td>Cyclin E</td>\n      <td>Fw3</td>\n      <td>30</td>\n    </tr>\n    <tr>\n      <th>820</th>\n      <td>19467</td>\n      <td>377.179740</td>\n      <td>3926</td>\n      <td>762.017575</td>\n      <td>15541</td>\n      <td>279.961199</td>\n      <td>EMMPRIN</td>\n      <td>Fw3</td>\n      <td>30</td>\n    </tr>\n    <tr>\n      <th>821</th>\n      <td>19467</td>\n      <td>151.947090</td>\n      <td>3926</td>\n      <td>113.231279</td>\n      <td>15541</td>\n      <td>161.727559</td>\n      <td>WNT-1</td>\n      <td>Fw3</td>\n      <td>30</td>\n    </tr>\n    <tr>\n      <th>822</th>\n      <td>19467</td>\n      <td>472.497611</td>\n      <td>3926</td>\n      <td>1455.043046</td>\n      <td>15541</td>\n      <td>224.284924</td>\n      <td>Non-phospho-B-catenin</td>\n      <td>Fw3</td>\n      <td>30</td>\n    </tr>\n    <tr>\n      <th>823</th>\n      <td>19467</td>\n      <td>100.922073</td>\n      <td>3926</td>\n      <td>99.067244</td>\n      <td>15541</td>\n      <td>101.390644</td>\n      <td>DKK1</td>\n      <td>Fw3</td>\n      <td>30</td>\n    </tr>\n  </tbody>\n</table>\n<p>824 rows × 9 columns</p>\n</div>"
     },
     "metadata": {},
     "execution_count": 250
    }
   ],
   "source": [
    "df_prop"
   ]
  },
  {
   "cell_type": "code",
   "execution_count": null,
   "metadata": {},
   "outputs": [],
   "source": []
  }
 ]
}