{
 "cells": [
  {
   "cell_type": "code",
   "execution_count": 1,
   "metadata": {},
   "outputs": [],
   "source": [
    "import numpy as np\n",
    "import skimage.io \n",
    "import matplotlib.pyplot as plt \n",
    "import os, sys\n",
    "import pickle\n",
    "import pandas as pd \n",
    "from skimage.registration import phase_cross_correlation\n",
    "\n",
    "img_folder = '3seg+conjugated 8_26'"
   ]
  },
  {
   "cell_type": "code",
   "execution_count": 2,
   "metadata": {},
   "outputs": [],
   "source": [
    "# Read Images from Dapi and Phallaodin channel\n",
    "\n",
    "cycle_name = 'Lg_2seg__40X8_26'\n",
    "\n",
    "cycle_cond = 'Fw'\n",
    "dapi_ch = 'CH1'\n",
    "pha_ch = 'CH3'\n",
    "wga_ch = 'CH4'\n",
    "\n",
    "img_ch = {}\n",
    "\n",
    "for (dirpath, dirnames, filenames) in os.walk(img_folder):\n",
    "    for name in sorted(filenames):\n",
    "        if cycle_name in dirpath and 'tif' in name:\n",
    "            \n",
    "            # Get information from image name \n",
    "            condition = dirpath.split(cycle_name)[-1]\n",
    "            z_stack = '_'.join(name.split('_')[:3])\n",
    "            channel = name.split('_')[-1].split('.')[0]\n",
    "            \n",
    "            # Add key if doesn't exist\n",
    "            key = condition+'_'+z_stack\n",
    "            \n",
    "            if '_FF_' not in key:\n",
    "                if dapi_ch in channel and cycle_cond in condition:\n",
    "                    if key not in img_ch:\n",
    "                        img_ch[key] = {}\n",
    "                    img_dapi = skimage.io.imread(os.path.join(dirpath,name))\n",
    "                    img_dapi = (img_dapi/256).astype('uint8')\n",
    "                    img_ch[key]['dapi'] = img_dapi \n",
    "\n",
    "                if pha_ch in channel and cycle_cond in condition:\n",
    "                    if key not in img_ch:\n",
    "                        img_ch[key] = {}\n",
    "                    img_pha = skimage.io.imread(os.path.join(dirpath,name))\n",
    "                    img_pha = (img_pha/256).astype('uint8')\n",
    "                    img_ch[key]['pha'] = img_pha \n",
    "                if wga_ch in channel and cycle_cond in condition:\n",
    "                    if key not in img_ch:\n",
    "                        img_ch[key] = {}\n",
    "                    img_wga = skimage.io.imread(os.path.join(dirpath,name))\n",
    "                    img_wga = (img_wga/256).astype('uint8')\n",
    "                    img_ch[key]['wga'] = img_wga\n",
    " "
   ]
  },
  {
   "cell_type": "code",
   "execution_count": 3,
   "metadata": {
    "scrolled": false
   },
   "outputs": [],
   "source": [
    "condition = 'Fw3'\n",
    "for key in img_ch.keys():\n",
    "    if condition in key and 'Z001' in key:\n",
    "        reference_dapi = img_ch[key]['dapi']\n"
   ]
  },
  {
   "cell_type": "code",
   "execution_count": 4,
   "metadata": {
    "scrolled": true
   },
   "outputs": [
    {
     "name": "stdout",
     "output_type": "stream",
     "text": [
      "Fw3_1_00001_Z002\n",
      "Detected subpixel offset (y, x): [0. 0.]\n",
      "Fw3_1_00001_Z003\n",
      "Detected subpixel offset (y, x): [0. 0.]\n",
      "Fw3_1_00001_Z004\n",
      "Detected subpixel offset (y, x): [0. 0.]\n",
      "Fw3_1_00001_Z005\n",
      "Detected subpixel offset (y, x): [0. 0.]\n",
      "Fw3_1_00001_Z006\n",
      "Detected subpixel offset (y, x): [0. 0.]\n",
      "Fw3_1_00001_Z007\n",
      "Detected subpixel offset (y, x): [0. 0.]\n",
      "Fw3_1_00001_Z008\n",
      "Detected subpixel offset (y, x): [0. 0.]\n"
     ]
    }
   ],
   "source": [
    "# Shift within the same cycle for different z level\n",
    "for key in img_ch.keys():\n",
    "    if condition in key and 'Z001' not in key:\n",
    "        print(key) \n",
    "        img_dapi = img_ch[key]['dapi']\n",
    "        shift, error, diffphase = phase_cross_correlation(reference_dapi, img_dapi)\n",
    "        print(\"Detected subpixel offset (y, x): {}\".format(shift))\n",
    "        \n",
    "#         fig = plt.figure(figsize=(25, 10))\n",
    "#         ax1 = plt.subplot(1, 2, 1)\n",
    "#         ax2 = plt.subplot(1, 2, 2)\n",
    "        \n",
    "#         ax1.imshow(reference_dapi, cmap='gray', alpha=0.7)\n",
    "#         ax1.imshow(img_dapi, cmap='gray', alpha=0.7)\n",
    "#         ax1.set_axis_off()\n",
    "        \n",
    "#         ax2.set_axis_off()\n",
    "        plt.show()"
   ]
  },
  {
   "cell_type": "code",
   "execution_count": null,
   "metadata": {},
   "outputs": [],
   "source": [
    "cycle_cond = 'Fw'\n",
    "dapi_ch = 'CH1'\n",
    "pha_ch = 'CH3'\n",
    "wga_ch = 'CH4'\n",
    "\n",
    "img_ch = {}\n",
    "\n",
    "for (dirpath, dirnames, filenames) in os.walk(img_folder):\n",
    "    for name in sorted(filenames):\n",
    "        if cycle_cond in dirpath and 'tif' in name:\n",
    "            \n",
    "            # Get information from image name \n",
    "            condition = dirpath.split(cycle_name)[-1]\n",
    "            z_stack = '_'.join(name.split('_')[:3])\n",
    "            channel = name.split('_')[-1].split('.')[0]\n",
    "            \n",
    "            # Add key if doesn't exist\n",
    "            key = condition+'_'+z_stack\n",
    "            \n",
    "            if '_FF_' not in key:\n",
    "                if dapi_ch in channel and cycle_cond in condition:\n",
    "                    if key not in img_ch:\n",
    "                        img_ch[key] = {}\n",
    "                    img_dapi = skimage.io.imread(os.path.join(dirpath,name))\n",
    "                    img_dapi = (img_dapi/256).astype('uint8')\n",
    "                    img_ch[key]['dapi'] = img_dapi \n",
    "\n",
    "                if pha_ch in channel and cycle_cond in condition:\n",
    "                    if key not in img_ch:\n",
    "                        img_ch[key] = {}\n",
    "                    img_pha = skimage.io.imread(os.path.join(dirpath,name))\n",
    "                    img_pha = (img_pha/256).astype('uint8')\n",
    "                    img_ch[key]['pha'] = img_pha \n",
    "                if wga_ch in channel and cycle_cond in condition:\n",
    "                    if key not in img_ch:\n",
    "                        img_ch[key] = {}\n",
    "                    img_wga = skimage.io.imread(os.path.join(dirpath,name))\n",
    "                    img_wga = (img_wga/256).astype('uint8')\n",
    "                    img_ch[key]['wga'] = img_wga\n",
    " "
   ]
  }
 ],
 "metadata": {
  "kernelspec": {
   "display_name": "Python 3",
   "language": "python",
   "name": "python3"
  },
  "language_info": {
   "codemirror_mode": {
    "name": "ipython",
    "version": 3
   },
   "file_extension": ".py",
   "mimetype": "text/x-python",
   "name": "python",
   "nbconvert_exporter": "python",
   "pygments_lexer": "ipython3",
   "version": "3.6.10"
  }
 },
 "nbformat": 4,
 "nbformat_minor": 4
}
