{
 "cells": [
  {
   "cell_type": "code",
   "execution_count": 1,
   "metadata": {},
   "outputs": [],
   "source": [
    "import numpy as np\n",
    "import skimage.io \n",
    "import matplotlib.pyplot as plt \n",
    "import os, sys\n",
    "import pickle\n",
    "import pandas as pd \n",
    "img_folder = '3seg+conjugated 8_26'"
   ]
  },
  {
   "cell_type": "code",
   "execution_count": 2,
   "metadata": {},
   "outputs": [],
   "source": [
    "DEFAULT_CHANNELS = (1, 2, 3)\n",
    "\n",
    "RGB_MAP = {\n",
    "    1: {\n",
    "        'rgb': np.array([255,0,0]),\n",
    "        'range': [0, 40]\n",
    "    },\n",
    "    2: {\n",
    "        'rgb': np.array([0,255,0]),\n",
    "        'range': [0, 150]\n",
    "    },\n",
    "    3: {\n",
    "        'rgb': np.array([0,0,255]),\n",
    "        'range': [0, 80]\n",
    "    }\n",
    "}\n",
    "\n",
    "def convert_to_rgb(t, channels=DEFAULT_CHANNELS, vmax=255, rgb_map=RGB_MAP):\n",
    "    \"\"\"\n",
    "    Converts and returns the image data as RGB image\n",
    "    Parameters\n",
    "    ----------\n",
    "    t : np.ndarray\n",
    "        original image data\n",
    "    channels : list of int\n",
    "        channels to include\n",
    "    vmax : int\n",
    "        the max value used for scaling\n",
    "    rgb_map : dict\n",
    "        the color mapping for each channel\n",
    "        See rxrx.io.RGB_MAP to see what the defaults are.\n",
    "    Returns\n",
    "    -------\n",
    "    np.ndarray the image data of the site as RGB channels\n",
    "    \"\"\"\n",
    "    dim1,dim2,_ = t.shape\n",
    "    colored_channels = []\n",
    "    for i, channel in enumerate(channels):\n",
    "        x = (t[:, :, channel-1] / vmax) / \\\n",
    "            ((rgb_map[channel]['range'][1] - rgb_map[channel]['range'][0]) / 255) + \\\n",
    "            rgb_map[channel]['range'][0] / 255\n",
    "        x = np.where(x > 1., 1., x)\n",
    "        x_rgb = np.array(\n",
    "            np.outer(x, rgb_map[channel]['rgb']).reshape(dim1,dim2, 3),\n",
    "            dtype=int)\n",
    "        colored_channels.append(x_rgb)\n",
    "    im = np.array(np.array(colored_channels).sum(axis=0), dtype=int)\n",
    "    im = np.where(im > 255, 255, im)\n",
    "    im = im.astype(np.uint8)\n",
    "    return im"
   ]
  },
  {
   "cell_type": "code",
   "execution_count": 3,
   "metadata": {
    "scrolled": false
   },
   "outputs": [],
   "source": [
    "# Read Images from Dapi and Phallaodin channel\n",
    "\n",
    "cycle_name = 'Lg_2seg__40X8_26'\n",
    "\n",
    "cycle_cond = 'Fw'\n",
    "dapi_ch = 'CH1'\n",
    "pha_ch = 'CH3'\n",
    "wga_ch = 'CH4'\n",
    "\n",
    "img_ch = {}\n",
    "\n",
    "for (dirpath, dirnames, filenames) in os.walk(img_folder):\n",
    "    for name in sorted(filenames):\n",
    "        if cycle_name in dirpath and 'tif' in name:\n",
    "            \n",
    "            # Get information from image name \n",
    "            condition = dirpath.split(cycle_name)[-1]\n",
    "            z_stack = '_'.join(name.split('_')[:3])\n",
    "            channel = name.split('_')[-1].split('.')[0]\n",
    "            \n",
    "            # Add key if doesn't exist\n",
    "            key = dirpath+'_'+z_stack\n",
    "            \n",
    "            if '_FF_' not in key:\n",
    "                if dapi_ch in channel and cycle_cond in condition:\n",
    "                    if key not in img_ch:\n",
    "                        img_ch[key] = {}\n",
    "                    img_dapi = skimage.io.imread(os.path.join(dirpath,name))\n",
    "                    img_dapi = (img_dapi/256).astype('uint8')\n",
    "                    img_ch[key]['dapi'] = img_dapi \n",
    "\n",
    "                if pha_ch in channel and cycle_cond in condition:\n",
    "                    if key not in img_ch:\n",
    "                        img_ch[key] = {}\n",
    "                    img_pha = skimage.io.imread(os.path.join(dirpath,name))\n",
    "                    img_pha = (img_pha/256).astype('uint8')\n",
    "                    img_ch[key]['pha'] = img_pha \n",
    "                if wga_ch in channel and cycle_cond in condition:\n",
    "                    if key not in img_ch:\n",
    "                        img_ch[key] = {}\n",
    "                    img_wga = skimage.io.imread(os.path.join(dirpath,name))\n",
    "                    img_wga = (img_wga/256).astype('uint8')\n",
    "                    img_ch[key]['wga'] = img_wga\n",
    "              \n"
   ]
  },
  {
   "cell_type": "code",
   "execution_count": 4,
   "metadata": {},
   "outputs": [],
   "source": [
    "# Generate composite image from Dapi and phallodin channel\n",
    "imgs = []\n",
    "\n",
    "for key in img_ch.keys():                \n",
    "    data = np.concatenate((img_ch[key]['pha'][:,:,None], img_ch[key]['wga'][:,:,None]), axis=2)\n",
    "    data = np.concatenate((data, img_ch[key]['dapi'][:,:,None]), axis=2)\n",
    "    img = convert_to_rgb(data)\n",
    "    imgs.append(img)"
   ]
  },
  {
   "cell_type": "code",
   "execution_count": 5,
   "metadata": {},
   "outputs": [],
   "source": [
    "# plt.figure(figsize=(15,15))\n",
    "# plt.axis('off')\n",
    "# plt.imshow(img)"
   ]
  },
  {
   "cell_type": "markdown",
   "metadata": {},
   "source": [
    "# Segmentation with cellpose"
   ]
  },
  {
   "cell_type": "code",
   "execution_count": 4,
   "metadata": {},
   "outputs": [
    {
     "name": "stdout",
     "output_type": "stream",
     "text": [
      "** CUDA version installed and working. **\n",
      "GPU activated? 1\n",
      "cellpose_residual_on_style_on_concatenation_off\n"
     ]
    }
   ],
   "source": [
    "import mxnet as mx \n",
    "from cellpose import utils\n",
    "\n",
    "use_GPU = utils.use_gpu()\n",
    "print('GPU activated? %d'%use_GPU)\n",
    "\n",
    "from cellpose import models\n",
    "\n",
    "# DEFINE CELLPOSE MODEL\n",
    "# model_type='cyto' or model_type='nuclei'\n",
    "model = models.Cellpose(gpu=use_GPU, model_type='cyto', device = mx.gpu(0))\n",
    "\n",
    "# define CHANNELS to run segementation on\n",
    "# grayscale=0, R=1, G=2, B=3\n",
    "# channels = [cytoplasm, nucleus]\n",
    "# if NUCLEUS channel does not exist, set the second channel to 0\n",
    "# channels = [0,0]\n",
    "# IF ALL YOUR IMAGES ARE THE SAME TYPE, you can give a list with 2 elements\n",
    "# channels = [0,0] # IF YOU HAVE GRAYSCALE\n",
    "# channels = [2,3] # IF YOU HAVE G=cytoplasm and B=nucleus\n",
    "# channels = [2,1] # IF YOU HAVE G=cytoplasm and R=nucleus\n",
    "\n",
    "# or if you have different types of channels in each image\n",
    "channels = [1,3]"
   ]
  },
  {
   "cell_type": "code",
   "execution_count": null,
   "metadata": {},
   "outputs": [],
   "source": [
    "masks, flows, styles, diams = model.eval(imgs, diameter=200, flow_threshold=None, channels=channels)"
   ]
  },
  {
   "cell_type": "code",
   "execution_count": null,
   "metadata": {
    "scrolled": false
   },
   "outputs": [],
   "source": [
    "# DISPLAY RESULTS\n",
    "from cellpose import plot\n",
    "\n",
    "nimg = len(imgs)\n",
    "for idx in range(nimg):\n",
    "    maski = masks[idx]\n",
    "    flowi = flows[idx][0]\n",
    "\n",
    "    fig = plt.figure(figsize=(25,15))\n",
    "    plot.show_segmentation(fig, imgs[idx], maski, flowi, channels=channels)\n",
    "    plt.tight_layout()\n",
    "#     plt.savefig(str(idx)+'.png')\n",
    "    plt.show()"
   ]
  },
  {
   "cell_type": "code",
   "execution_count": null,
   "metadata": {},
   "outputs": [],
   "source": []
  }
 ],
 "metadata": {
  "kernelspec": {
   "display_name": "Python 3",
   "language": "python",
   "name": "python3"
  },
  "language_info": {
   "codemirror_mode": {
    "name": "ipython",
    "version": 3
   },
   "file_extension": ".py",
   "mimetype": "text/x-python",
   "name": "python",
   "nbconvert_exporter": "python",
   "pygments_lexer": "ipython3",
   "version": "3.6.10"
  },
  "toc": {
   "base_numbering": 1,
   "nav_menu": {},
   "number_sections": true,
   "sideBar": true,
   "skip_h1_title": false,
   "title_cell": "Table of Contents",
   "title_sidebar": "Contents",
   "toc_cell": false,
   "toc_position": {},
   "toc_section_display": true,
   "toc_window_display": false
  }
 },
 "nbformat": 4,
 "nbformat_minor": 4
}