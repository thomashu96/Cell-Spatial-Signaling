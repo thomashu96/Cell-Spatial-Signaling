{
 "cells": [
  {
   "cell_type": "code",
   "execution_count": 1,
   "metadata": {
    "ExecuteTime": {
     "end_time": "2020-12-28T14:39:55.220264Z",
     "start_time": "2020-12-28T14:39:50.180984Z"
    }
   },
   "outputs": [],
   "source": [
    "import sys\n",
    "from pathlib import Path\n",
    "\n",
    "import cv2\n",
    "import hdbscan\n",
    "import matplotlib.pyplot as plt\n",
    "import matplotlib.pylab as pl\n",
    "from matplotlib.colors import ListedColormap\n",
    "import numpy as np\n",
    "import pandas as pd\n",
    "import seaborn as sns\n",
    "import umap\n",
    "from mpl_toolkits.mplot3d import Axes3D\n",
    "from skimage import measure\n",
    "from sklearn.decomposition import PCA\n",
    "from sklearn.preprocessing import MinMaxScaler, StandardScaler\n",
    "import parc"
   ]
  },
  {
   "cell_type": "code",
   "execution_count": 2,
   "metadata": {
    "ExecuteTime": {
     "end_time": "2020-12-28T14:39:55.378238Z",
     "start_time": "2020-12-28T14:39:55.223257Z"
    }
   },
   "outputs": [],
   "source": [
    "%load_ext autoreload\n",
    "%autoreload 2"
   ]
  },
  {
   "cell_type": "code",
   "execution_count": 3,
   "metadata": {
    "ExecuteTime": {
     "end_time": "2020-12-28T14:39:55.531236Z",
     "start_time": "2020-12-28T14:39:55.381238Z"
    }
   },
   "outputs": [],
   "source": [
    "# Import path\n",
    "module_path = str(Path.cwd().parents[0])\n",
    "if module_path not in sys.path:\n",
    "    sys.path.append(module_path)"
   ]
  },
  {
   "cell_type": "code",
   "execution_count": 4,
   "metadata": {
    "ExecuteTime": {
     "end_time": "2020-12-28T14:39:55.737276Z",
     "start_time": "2020-12-28T14:39:55.533233Z"
    }
   },
   "outputs": [],
   "source": [
    "from config import *"
   ]
  },
  {
   "cell_type": "code",
   "execution_count": 5,
   "metadata": {
    "ExecuteTime": {
     "end_time": "2020-12-28T14:39:55.941259Z",
     "start_time": "2020-12-28T14:39:55.739271Z"
    }
   },
   "outputs": [],
   "source": [
    "# Parameters\n",
    "min_cluster_size = 100\n",
    "min_intensity = 0.1\n",
    "random_seed = 1"
   ]
  },
  {
   "cell_type": "markdown",
   "metadata": {},
   "source": [
    "# Read data"
   ]
  },
  {
   "cell_type": "code",
   "execution_count": 6,
   "metadata": {
    "ExecuteTime": {
     "end_time": "2020-12-28T14:40:09.758793Z",
     "start_time": "2020-12-28T14:39:55.943252Z"
    }
   },
   "outputs": [
    {
     "data": {
      "text/plain": [
       "DAPI                     24117\n",
       "Phalloidin               61307\n",
       "WGA                      57667\n",
       "Concanavadin A           59602\n",
       "APC                      61245\n",
       "Cyclin D1                34600\n",
       "Cyclin E                 54336\n",
       "EMMPRIN                  60834\n",
       "WNT-1                    64637\n",
       "Non-phospho-B-catenin    28759\n",
       "DKK1                      6677\n",
       "dtype: int64"
      ]
     },
     "metadata": {},
     "output_type": "display_data"
    },
    {
     "data": {
      "text/html": [
       "<div>\n",
       "<style scoped>\n",
       "    .dataframe tbody tr th:only-of-type {\n",
       "        vertical-align: middle;\n",
       "    }\n",
       "\n",
       "    .dataframe tbody tr th {\n",
       "        vertical-align: top;\n",
       "    }\n",
       "\n",
       "    .dataframe thead th {\n",
       "        text-align: right;\n",
       "    }\n",
       "</style>\n",
       "<table border=\"1\" class=\"dataframe\">\n",
       "  <thead>\n",
       "    <tr style=\"text-align: right;\">\n",
       "      <th></th>\n",
       "      <th>DAPI</th>\n",
       "      <th>Phalloidin</th>\n",
       "      <th>WGA</th>\n",
       "      <th>Concanavadin A</th>\n",
       "      <th>APC</th>\n",
       "      <th>Cyclin D1</th>\n",
       "      <th>Cyclin E</th>\n",
       "      <th>EMMPRIN</th>\n",
       "      <th>WNT-1</th>\n",
       "      <th>Non-phospho-B-catenin</th>\n",
       "      <th>DKK1</th>\n",
       "    </tr>\n",
       "  </thead>\n",
       "  <tbody>\n",
       "    <tr>\n",
       "      <th>count</th>\n",
       "      <td>4.189708e+06</td>\n",
       "      <td>4.189708e+06</td>\n",
       "      <td>4.189708e+06</td>\n",
       "      <td>4.189708e+06</td>\n",
       "      <td>4.189708e+06</td>\n",
       "      <td>4.189708e+06</td>\n",
       "      <td>4.189708e+06</td>\n",
       "      <td>4.189708e+06</td>\n",
       "      <td>4.189708e+06</td>\n",
       "      <td>4.189708e+06</td>\n",
       "      <td>4.189708e+06</td>\n",
       "    </tr>\n",
       "    <tr>\n",
       "      <th>mean</th>\n",
       "      <td>5.490950e-02</td>\n",
       "      <td>4.898193e-02</td>\n",
       "      <td>3.293212e-02</td>\n",
       "      <td>4.402110e-02</td>\n",
       "      <td>7.236760e-03</td>\n",
       "      <td>3.255747e-03</td>\n",
       "      <td>1.000895e-02</td>\n",
       "      <td>5.946675e-03</td>\n",
       "      <td>2.468510e-03</td>\n",
       "      <td>2.045527e-02</td>\n",
       "      <td>1.816867e-02</td>\n",
       "    </tr>\n",
       "    <tr>\n",
       "      <th>std</th>\n",
       "      <td>1.399681e-01</td>\n",
       "      <td>4.085330e-02</td>\n",
       "      <td>6.341810e-02</td>\n",
       "      <td>9.892625e-02</td>\n",
       "      <td>1.461627e-02</td>\n",
       "      <td>2.681191e-03</td>\n",
       "      <td>2.095746e-02</td>\n",
       "      <td>1.533676e-02</td>\n",
       "      <td>6.028638e-03</td>\n",
       "      <td>2.209952e-02</td>\n",
       "      <td>1.103692e-02</td>\n",
       "    </tr>\n",
       "    <tr>\n",
       "      <th>min</th>\n",
       "      <td>0.000000e+00</td>\n",
       "      <td>0.000000e+00</td>\n",
       "      <td>0.000000e+00</td>\n",
       "      <td>0.000000e+00</td>\n",
       "      <td>0.000000e+00</td>\n",
       "      <td>0.000000e+00</td>\n",
       "      <td>0.000000e+00</td>\n",
       "      <td>0.000000e+00</td>\n",
       "      <td>0.000000e+00</td>\n",
       "      <td>0.000000e+00</td>\n",
       "      <td>0.000000e+00</td>\n",
       "    </tr>\n",
       "    <tr>\n",
       "      <th>25%</th>\n",
       "      <td>0.000000e+00</td>\n",
       "      <td>2.386085e-02</td>\n",
       "      <td>0.000000e+00</td>\n",
       "      <td>0.000000e+00</td>\n",
       "      <td>1.730754e-03</td>\n",
       "      <td>1.820809e-03</td>\n",
       "      <td>6.257362e-04</td>\n",
       "      <td>1.479436e-03</td>\n",
       "      <td>3.248913e-04</td>\n",
       "      <td>5.737334e-03</td>\n",
       "      <td>1.078329e-02</td>\n",
       "    </tr>\n",
       "    <tr>\n",
       "      <th>50%</th>\n",
       "      <td>0.000000e+00</td>\n",
       "      <td>3.779888e-02</td>\n",
       "      <td>4.075121e-03</td>\n",
       "      <td>0.000000e+00</td>\n",
       "      <td>4.702425e-03</td>\n",
       "      <td>3.005780e-03</td>\n",
       "      <td>5.061101e-03</td>\n",
       "      <td>4.043791e-03</td>\n",
       "      <td>1.345978e-03</td>\n",
       "      <td>1.404778e-02</td>\n",
       "      <td>1.722330e-02</td>\n",
       "    </tr>\n",
       "    <tr>\n",
       "      <th>75%</th>\n",
       "      <td>0.000000e+00</td>\n",
       "      <td>6.006352e-02</td>\n",
       "      <td>3.678013e-02</td>\n",
       "      <td>4.766619e-02</td>\n",
       "      <td>8.686423e-03</td>\n",
       "      <td>4.335260e-03</td>\n",
       "      <td>1.153931e-02</td>\n",
       "      <td>7.446494e-03</td>\n",
       "      <td>2.722899e-03</td>\n",
       "      <td>2.555722e-02</td>\n",
       "      <td>2.426239e-02</td>\n",
       "    </tr>\n",
       "    <tr>\n",
       "      <th>max</th>\n",
       "      <td>1.000000e+00</td>\n",
       "      <td>1.000000e+00</td>\n",
       "      <td>1.000000e+00</td>\n",
       "      <td>1.000000e+00</td>\n",
       "      <td>1.000000e+00</td>\n",
       "      <td>1.000000e+00</td>\n",
       "      <td>1.000000e+00</td>\n",
       "      <td>1.000000e+00</td>\n",
       "      <td>1.000000e+00</td>\n",
       "      <td>1.000000e+00</td>\n",
       "      <td>1.000000e+00</td>\n",
       "    </tr>\n",
       "  </tbody>\n",
       "</table>\n",
       "</div>"
      ],
      "text/plain": [
       "               DAPI    Phalloidin           WGA  Concanavadin A           APC  \\\n",
       "count  4.189708e+06  4.189708e+06  4.189708e+06    4.189708e+06  4.189708e+06   \n",
       "mean   5.490950e-02  4.898193e-02  3.293212e-02    4.402110e-02  7.236760e-03   \n",
       "std    1.399681e-01  4.085330e-02  6.341810e-02    9.892625e-02  1.461627e-02   \n",
       "min    0.000000e+00  0.000000e+00  0.000000e+00    0.000000e+00  0.000000e+00   \n",
       "25%    0.000000e+00  2.386085e-02  0.000000e+00    0.000000e+00  1.730754e-03   \n",
       "50%    0.000000e+00  3.779888e-02  4.075121e-03    0.000000e+00  4.702425e-03   \n",
       "75%    0.000000e+00  6.006352e-02  3.678013e-02    4.766619e-02  8.686423e-03   \n",
       "max    1.000000e+00  1.000000e+00  1.000000e+00    1.000000e+00  1.000000e+00   \n",
       "\n",
       "          Cyclin D1      Cyclin E       EMMPRIN         WNT-1  \\\n",
       "count  4.189708e+06  4.189708e+06  4.189708e+06  4.189708e+06   \n",
       "mean   3.255747e-03  1.000895e-02  5.946675e-03  2.468510e-03   \n",
       "std    2.681191e-03  2.095746e-02  1.533676e-02  6.028638e-03   \n",
       "min    0.000000e+00  0.000000e+00  0.000000e+00  0.000000e+00   \n",
       "25%    1.820809e-03  6.257362e-04  1.479436e-03  3.248913e-04   \n",
       "50%    3.005780e-03  5.061101e-03  4.043791e-03  1.345978e-03   \n",
       "75%    4.335260e-03  1.153931e-02  7.446494e-03  2.722899e-03   \n",
       "max    1.000000e+00  1.000000e+00  1.000000e+00  1.000000e+00   \n",
       "\n",
       "       Non-phospho-B-catenin          DKK1  \n",
       "count           4.189708e+06  4.189708e+06  \n",
       "mean            2.045527e-02  1.816867e-02  \n",
       "std             2.209952e-02  1.103692e-02  \n",
       "min             0.000000e+00  0.000000e+00  \n",
       "25%             5.737334e-03  1.078329e-02  \n",
       "50%             1.404778e-02  1.722330e-02  \n",
       "75%             2.555722e-02  2.426239e-02  \n",
       "max             1.000000e+00  1.000000e+00  "
      ]
     },
     "metadata": {},
     "output_type": "display_data"
    }
   ],
   "source": [
    "pixel_features = data_meta / 'pixel_intensity.csv'  # location of file\n",
    "df = pd.read_csv(pixel_features)\n",
    "pixels = df.iloc[:, :11]\n",
    "display(pixels.max())\n",
    "\n",
    "# Scale data\n",
    "scaler = MinMaxScaler()\n",
    "x_scaled = scaler.fit_transform(pixels)\n",
    "pixels_scaled = pd.DataFrame(x_scaled, columns=pixels.columns)\n",
    "display(pixels_scaled.describe())"
   ]
  },
  {
   "cell_type": "code",
   "execution_count": 7,
   "metadata": {
    "ExecuteTime": {
     "end_time": "2020-12-28T14:40:10.323722Z",
     "start_time": "2020-12-28T14:40:09.761789Z"
    }
   },
   "outputs": [
    {
     "data": {
      "text/plain": [
       "True     2924531\n",
       "False    1265177\n",
       "dtype: int64"
      ]
     },
     "metadata": {},
     "output_type": "display_data"
    },
    {
     "data": {
      "text/html": [
       "<div>\n",
       "<style scoped>\n",
       "    .dataframe tbody tr th:only-of-type {\n",
       "        vertical-align: middle;\n",
       "    }\n",
       "\n",
       "    .dataframe tbody tr th {\n",
       "        vertical-align: top;\n",
       "    }\n",
       "\n",
       "    .dataframe thead th {\n",
       "        text-align: right;\n",
       "    }\n",
       "</style>\n",
       "<table border=\"1\" class=\"dataframe\">\n",
       "  <thead>\n",
       "    <tr style=\"text-align: right;\">\n",
       "      <th></th>\n",
       "      <th>DAPI</th>\n",
       "      <th>Phalloidin</th>\n",
       "      <th>WGA</th>\n",
       "      <th>Concanavadin A</th>\n",
       "      <th>APC</th>\n",
       "      <th>Cyclin D1</th>\n",
       "      <th>Cyclin E</th>\n",
       "      <th>EMMPRIN</th>\n",
       "      <th>WNT-1</th>\n",
       "      <th>Non-phospho-B-catenin</th>\n",
       "      <th>DKK1</th>\n",
       "    </tr>\n",
       "  </thead>\n",
       "  <tbody>\n",
       "    <tr>\n",
       "      <th>62</th>\n",
       "      <td>0.0</td>\n",
       "      <td>0.024519</td>\n",
       "      <td>0.068237</td>\n",
       "      <td>0.126925</td>\n",
       "      <td>0.002286</td>\n",
       "      <td>0.003324</td>\n",
       "      <td>0.007748</td>\n",
       "      <td>0.000000</td>\n",
       "      <td>0.001686</td>\n",
       "      <td>0.00000</td>\n",
       "      <td>0.004643</td>\n",
       "    </tr>\n",
       "    <tr>\n",
       "      <th>63</th>\n",
       "      <td>0.0</td>\n",
       "      <td>0.022594</td>\n",
       "      <td>0.088404</td>\n",
       "      <td>0.143972</td>\n",
       "      <td>0.000000</td>\n",
       "      <td>0.002283</td>\n",
       "      <td>0.000000</td>\n",
       "      <td>0.000049</td>\n",
       "      <td>0.003605</td>\n",
       "      <td>0.00000</td>\n",
       "      <td>0.005691</td>\n",
       "    </tr>\n",
       "    <tr>\n",
       "      <th>64</th>\n",
       "      <td>0.0</td>\n",
       "      <td>0.020422</td>\n",
       "      <td>0.067179</td>\n",
       "      <td>0.153032</td>\n",
       "      <td>0.001404</td>\n",
       "      <td>0.006098</td>\n",
       "      <td>0.000000</td>\n",
       "      <td>0.000000</td>\n",
       "      <td>0.003496</td>\n",
       "      <td>0.00000</td>\n",
       "      <td>0.007938</td>\n",
       "    </tr>\n",
       "    <tr>\n",
       "      <th>65</th>\n",
       "      <td>0.0</td>\n",
       "      <td>0.016258</td>\n",
       "      <td>0.062393</td>\n",
       "      <td>0.160179</td>\n",
       "      <td>0.000000</td>\n",
       "      <td>0.000694</td>\n",
       "      <td>0.001804</td>\n",
       "      <td>0.002975</td>\n",
       "      <td>0.001733</td>\n",
       "      <td>0.00000</td>\n",
       "      <td>0.015127</td>\n",
       "    </tr>\n",
       "    <tr>\n",
       "      <th>66</th>\n",
       "      <td>0.0</td>\n",
       "      <td>0.020356</td>\n",
       "      <td>0.059185</td>\n",
       "      <td>0.152042</td>\n",
       "      <td>0.002384</td>\n",
       "      <td>0.001040</td>\n",
       "      <td>0.000000</td>\n",
       "      <td>0.003058</td>\n",
       "      <td>0.002243</td>\n",
       "      <td>0.00153</td>\n",
       "      <td>0.007788</td>\n",
       "    </tr>\n",
       "  </tbody>\n",
       "</table>\n",
       "</div>"
      ],
      "text/plain": [
       "    DAPI  Phalloidin       WGA  Concanavadin A       APC  Cyclin D1  Cyclin E  \\\n",
       "62   0.0    0.024519  0.068237        0.126925  0.002286   0.003324  0.007748   \n",
       "63   0.0    0.022594  0.088404        0.143972  0.000000   0.002283  0.000000   \n",
       "64   0.0    0.020422  0.067179        0.153032  0.001404   0.006098  0.000000   \n",
       "65   0.0    0.016258  0.062393        0.160179  0.000000   0.000694  0.001804   \n",
       "66   0.0    0.020356  0.059185        0.152042  0.002384   0.001040  0.000000   \n",
       "\n",
       "     EMMPRIN     WNT-1  Non-phospho-B-catenin      DKK1  \n",
       "62  0.000000  0.001686                0.00000  0.004643  \n",
       "63  0.000049  0.003605                0.00000  0.005691  \n",
       "64  0.000000  0.003496                0.00000  0.007938  \n",
       "65  0.002975  0.001733                0.00000  0.015127  \n",
       "66  0.003058  0.002243                0.00153  0.007788  "
      ]
     },
     "metadata": {},
     "output_type": "display_data"
    }
   ],
   "source": [
    "pixel_dark = pixels_scaled.le(min_intensity).all(axis=1)\n",
    "display(pixel_dark.value_counts())\n",
    "pixels_bright = pixels_scaled[~pixel_dark]\n",
    "display(pixels_bright.head())"
   ]
  },
  {
   "cell_type": "markdown",
   "metadata": {},
   "source": [
    "# Clustering"
   ]
  },
  {
   "cell_type": "code",
   "execution_count": 8,
   "metadata": {
    "ExecuteTime": {
     "end_time": "2020-12-28T14:40:10.510713Z",
     "start_time": "2020-12-28T14:40:10.330721Z"
    }
   },
   "outputs": [],
   "source": [
    "def clustering_parc(X, small_pop=200):\n",
    "    parc1 = parc.PARC(X, jac_weighted_edges = False, small_pop = small_pop)\n",
    "    parc1.run_PARC() \n",
    "    labels = parc1.labels\n",
    "    \n",
    "    graph = parc1.knngraph_full()\n",
    "    embedding= parc1.run_umap_hnsw(X, graph, random_state = 1)\n",
    "    return labels, embedding"
   ]
  },
  {
   "cell_type": "code",
   "execution_count": null,
   "metadata": {
    "ExecuteTime": {
     "start_time": "2020-12-28T14:39:50.449Z"
    }
   },
   "outputs": [
    {
     "name": "stdout",
     "output_type": "stream",
     "text": [
      "input data has shape 1265177 (samples) x 11 (features)\n",
      "knn struct was not available, so making one\n"
     ]
    }
   ],
   "source": [
    "# Clustering\n",
    "labels, embedding = clustering_parc(pixels_bright.values)"
   ]
  },
  {
   "cell_type": "markdown",
   "metadata": {},
   "source": [
    "# Viz"
   ]
  },
  {
   "cell_type": "markdown",
   "metadata": {},
   "source": [
    "## Cluster visualization of markers expression"
   ]
  },
  {
   "cell_type": "code",
   "execution_count": null,
   "metadata": {
    "ExecuteTime": {
     "start_time": "2020-12-28T14:39:50.667Z"
    }
   },
   "outputs": [],
   "source": [
    "# Get dataframe per cluster\n",
    "df_per_label = pixels_bright.groupby('label').mean()\n",
    "df_per_label"
   ]
  },
  {
   "cell_type": "code",
   "execution_count": null,
   "metadata": {
    "ExecuteTime": {
     "start_time": "2020-12-28T14:39:50.670Z"
    }
   },
   "outputs": [],
   "source": [
    "log_norm = LogNorm(vmin=0, vmax=1)\n",
    "\n",
    "# Plot heat map\n",
    "fig, ax = plt.subplots(figsize=(10, 10))\n",
    "ax = sns.heatmap(df_per_label, cbar_kws={\n",
    "                 'fraction': 0.01}, linewidth=1, cmap=\"coolwarm\")\n",
    "ax.set_xticklabels(ax.get_xticklabels(), rotation=45,\n",
    "                   horizontalalignment='right')"
   ]
  },
  {
   "cell_type": "code",
   "execution_count": null,
   "metadata": {
    "ExecuteTime": {
     "start_time": "2020-12-28T14:39:50.672Z"
    }
   },
   "outputs": [],
   "source": [
    "# Get random colormap\n",
    "vals = np.linspace(0, 1, len(df_per_label))\n",
    "np.random.seed(random_seed)\n",
    "np.random.shuffle(vals)\n",
    "my_cmap = plt.cm.Paired(vals)\n",
    "\n",
    "# Change to row colors for clustermap\n",
    "labels = df_per_label.index.to_list()\n",
    "my_cmap_dict = dict(zip(labels, my_cmap))\n",
    "row_colors = pd.DataFrame(labels)[0].map(my_cmap_dict)\n",
    "row_colors.index += 1\n",
    "\n",
    "# Plot clustermap\n",
    "ax = sns.clustermap(df_per_label,\n",
    "                    cbar_kws={'fraction': 0.01},\n",
    "                    cmap='coolwarm',\n",
    "                    linewidth=1,\n",
    "                    row_colors=row_colors,\n",
    "                    col_cluster=False, \n",
    "                    norm = log_norm)\n",
    "ax.ax_heatmap.set_xticklabels(\n",
    "    ax.ax_heatmap.get_xticklabels(), rotation=45, horizontalalignment='right')\n",
    "ax.ax_heatmap.set_xlabel('Marker and location')\n",
    "ax.ax_heatmap.set_ylabel('Cluster')"
   ]
  },
  {
   "cell_type": "code",
   "execution_count": null,
   "metadata": {
    "ExecuteTime": {
     "start_time": "2020-12-28T14:39:50.674Z"
    }
   },
   "outputs": [],
   "source": [
    "# Plot clustermap\n",
    "ax = sns.clustermap(df_per_label,\n",
    "                    cbar_kws={'fraction': 0.01},\n",
    "                    cmap='coolwarm',\n",
    "                    linewidth=1,\n",
    "                    row_colors=row_colors,\n",
    "                    row_cluster=False, \n",
    "                    norm = log_norm)\n",
    "ax.ax_heatmap.set_xticklabels(\n",
    "    ax.ax_heatmap.get_xticklabels(), rotation=45, horizontalalignment='right')\n",
    "ax.ax_heatmap.set_xlabel('Marker and location')\n",
    "ax.ax_heatmap.set_ylabel('Cluster')"
   ]
  },
  {
   "cell_type": "markdown",
   "metadata": {},
   "source": [
    "## Pixel location visualization\n",
    "\n",
    "First we add back the location and condition information in the pixel_bright dataframe"
   ]
  },
  {
   "cell_type": "code",
   "execution_count": null,
   "metadata": {
    "ExecuteTime": {
     "start_time": "2020-12-28T14:39:50.802Z"
    }
   },
   "outputs": [],
   "source": [
    "pixels_bright = pixels_bright.join(df.iloc[:, 11:])\n",
    "pixels_bright.head()"
   ]
  },
  {
   "cell_type": "code",
   "execution_count": null,
   "metadata": {
    "ExecuteTime": {
     "start_time": "2020-12-28T14:39:50.806Z"
    }
   },
   "outputs": [],
   "source": [
    "condition = 'Fw1'\n",
    "\n",
    "df_subset = pixels_bright[pixels_bright.Condition == condition]"
   ]
  },
  {
   "cell_type": "code",
   "execution_count": null,
   "metadata": {
    "ExecuteTime": {
     "start_time": "2020-12-28T14:39:50.811Z"
    }
   },
   "outputs": [],
   "source": [
    "# Read mask image\n",
    "def get_masks(mask_folder):\n",
    "    '''\n",
    "    Function to get all mask from mask forlder\n",
    "    '''\n",
    "    # Read masks\n",
    "    masks = {}\n",
    "\n",
    "    for (dirpath, dirnames, filenames) in os.walk(mask_folder):\n",
    "        for name in sorted(filenames):\n",
    "            if \"tiff\" in name:\n",
    "                condition = name.split(\"_\")[0]\n",
    "                masks[condition] = masks.get(condition, {})\n",
    "                filename = os.path.join(dirpath, name)\n",
    "            if \"cyto\" in name:\n",
    "                img = skimage.io.imread(filename)\n",
    "                masks[condition][\"cyto\"] = img\n",
    "            elif \"nuclei\" in name:\n",
    "                img = skimage.io.imread(filename)\n",
    "                masks[condition][\"nuclei\"] = img\n",
    "    return masks\n",
    "\n",
    "\n",
    "def qc_nuclei(mask_cyto, mask_nuclei):\n",
    "    '''\n",
    "    Function to check if cell masks contain nuclei\n",
    "    '''\n",
    "    cell = np.zeros((mask_cyto.shape), dtype=np.uint8)\n",
    "    nuclei = np.zeros((mask_cyto.shape), dtype=np.uint8)\n",
    "    cyto = np.zeros((mask_cyto.shape), dtype=np.uint8)\n",
    "\n",
    "    for label in range(1, mask_cyto.max()):\n",
    "        # Check if cell has nuclei\n",
    "        cell_mask = np.where(mask_cyto == label, 1, 0).astype(np.uint8)\n",
    "        maski = cv2.bitwise_and(mask_nuclei, mask_nuclei, mask=cell_mask)\n",
    "\n",
    "        # If no nuclei detected then pass\n",
    "        if maski.max() == 0:\n",
    "            continue\n",
    "\n",
    "        # Link label accross cell, nuclei, cyto\n",
    "        cell = np.where(mask_cyto == label, label, cell)\n",
    "        nuclei = np.where(maski > 0, label, nuclei)\n",
    "        maski = cv2.subtract(cell_mask, maski)\n",
    "        cyto = np.where(maski > 0, label, cyto)\n",
    "    return cell, nuclei, cyto\n",
    "\n",
    "\n",
    "masks = get_masks(data_mask)\n",
    "mask, mask_nuclei, _ = qc_nuclei(masks[condition]['cyto'], masks[condition]['nuclei'])\n",
    "mask_binary = np.where(mask > 0, 1, 0)"
   ]
  },
  {
   "cell_type": "code",
   "execution_count": null,
   "metadata": {
    "ExecuteTime": {
     "start_time": "2020-12-28T14:39:50.815Z"
    }
   },
   "outputs": [],
   "source": [
    "# Create image from pixel location\n",
    "x_max, y_max = mask.shape\n",
    "\n",
    "x = df_subset.X.tolist()\n",
    "y = df_subset.Y.tolist()\n",
    "values = df_subset.label.tolist()\n",
    "\n",
    "img = np.zeros((x_max, y_max))\n",
    "img[x, y] = values"
   ]
  },
  {
   "cell_type": "code",
   "execution_count": null,
   "metadata": {
    "ExecuteTime": {
     "start_time": "2020-12-28T14:39:50.819Z"
    }
   },
   "outputs": [],
   "source": [
    "# Get contour of masks\n",
    "contours = {}\n",
    "contours_nuclei = {}\n",
    "labels = [n for n in np.unique(mask) if n > 0]\n",
    "for i in labels:\n",
    "    temp = np.where(mask == i, mask, 0)\n",
    "    contours[i] = measure.find_contours(temp, 0.1)[0]\n",
    "    temp = np.where(mask_nuclei == i, mask, 0)\n",
    "    contours_nuclei[i] = measure.find_contours(temp, 0.1)[0]"
   ]
  },
  {
   "cell_type": "code",
   "execution_count": null,
   "metadata": {
    "ExecuteTime": {
     "start_time": "2020-12-28T14:39:50.820Z"
    }
   },
   "outputs": [],
   "source": [
    "# Get random colormap\n",
    "bg_color = np.array([[0, 0, 0, 0]])\n",
    "colors = np.concatenate((bg_color, my_cmap))\n",
    "my_cmap_bg = plt.cm.colors.ListedColormap(colors)\n",
    "my_cmap_binary = plt.cm.colors.ListedColormap(['k', 'dimgray'])\n",
    "\n",
    "# Show contour\n",
    "fig, ax = plt.subplots(figsize=(20, 20))\n",
    "ax.imshow(mask_binary, cmap=my_cmap_binary)\n",
    "ax.imshow(img, cmap=my_cmap_bg)\n",
    "for label, contour in contours.items():\n",
    "    ax.plot(contour[:, 1], contour[:, 0], linewidth=2, c='w')\n",
    "    ax.plot(contours_nuclei[label][:, 1],\n",
    "            contours_nuclei[label][:, 0], linewidth=2, c='w')\n",
    "ax.axis('off')"
   ]
  }
 ],
 "metadata": {
  "kernelspec": {
   "display_name": "Python 3",
   "language": "python",
   "name": "python3"
  },
  "language_info": {
   "codemirror_mode": {
    "name": "ipython",
    "version": 3
   },
   "file_extension": ".py",
   "mimetype": "text/x-python",
   "name": "python",
   "nbconvert_exporter": "python",
   "pygments_lexer": "ipython3",
   "version": "3.6.10"
  },
  "toc": {
   "base_numbering": 1,
   "nav_menu": {},
   "number_sections": true,
   "sideBar": true,
   "skip_h1_title": false,
   "title_cell": "Table of Contents",
   "title_sidebar": "Contents",
   "toc_cell": false,
   "toc_position": {},
   "toc_section_display": true,
   "toc_window_display": false
  },
  "varInspector": {
   "cols": {
    "lenName": 16,
    "lenType": 16,
    "lenVar": 40
   },
   "kernels_config": {
    "python": {
     "delete_cmd_postfix": "",
     "delete_cmd_prefix": "del ",
     "library": "var_list.py",
     "varRefreshCmd": "print(var_dic_list())"
    },
    "r": {
     "delete_cmd_postfix": ") ",
     "delete_cmd_prefix": "rm(",
     "library": "var_list.r",
     "varRefreshCmd": "cat(var_dic_list()) "
    }
   },
   "types_to_exclude": [
    "module",
    "function",
    "builtin_function_or_method",
    "instance",
    "_Feature"
   ],
   "window_display": false
  }
 },
 "nbformat": 4,
 "nbformat_minor": 4
}
